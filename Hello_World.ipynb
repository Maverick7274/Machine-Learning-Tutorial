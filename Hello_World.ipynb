{
 "cells": [
  {
   "cell_type": "code",
   "execution_count": 5,
   "id": "776cafce",
   "metadata": {},
   "outputs": [
    {
     "name": "stdout",
     "output_type": "stream",
     "text": [
      "Hello World!\n"
     ]
    }
   ],
   "source": [
    "print(\"Hello World!\")"
   ]
  },
  {
   "cell_type": "code",
   "execution_count": 4,
   "id": "6e8eb179",
   "metadata": {},
   "outputs": [
    {
     "name": "stdout",
     "output_type": "stream",
     "text": [
      " Took A really long time to get here but I'm here now!\n"
     ]
    }
   ],
   "source": [
    "print(\" Took A really long time to get here but I'm here now!\")"
   ]
  },
  {
   "cell_type": "code",
   "execution_count": 6,
   "id": "ea4bb286",
   "metadata": {},
   "outputs": [
    {
     "name": "stdout",
     "output_type": "stream",
     "text": [
      "I'm so excited to learn Machine Learning!\n"
     ]
    }
   ],
   "source": [
    "print(\"I'm so excited to learn Machine Learning!\")"
   ]
  }
 ],
 "metadata": {
  "kernelspec": {
   "display_name": "env",
   "language": "python",
   "name": "python3"
  },
  "language_info": {
   "codemirror_mode": {
    "name": "ipython",
    "version": 3
   },
   "file_extension": ".py",
   "mimetype": "text/x-python",
   "name": "python",
   "nbconvert_exporter": "python",
   "pygments_lexer": "ipython3",
   "version": "3.9.13"
  },
  "vscode": {
   "interpreter": {
    "hash": "8ce7d9c245b173ac2e599df16d760e64e2534c48c722940790394e3d1fb2c295"
   }
  }
 },
 "nbformat": 4,
 "nbformat_minor": 5
}
