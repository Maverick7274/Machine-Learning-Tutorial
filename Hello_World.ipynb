{
 "cells": [
  {
   "cell_type": "code",
   "execution_count": 1,
   "id": "776cafce",
   "metadata": {},
   "outputs": [
    {
     "name": "stdout",
     "output_type": "stream",
     "text": [
      "Tensorflow Imported!\n"
     ]
    }
   ],
   "source": [
    "# import tensorflow as tf\n",
    "print(\"Tensorflow Imported!\")"
   ]
  },
  {
   "cell_type": "code",
   "execution_count": 12,
   "id": "6e8eb179",
   "metadata": {},
   "outputs": [
    {
     "name": "stdout",
     "output_type": "stream",
     "text": [
      " Took A really long time to get here but I'm here now!\n"
     ]
    }
   ],
   "source": [
    "print(\" Took A really long time to get here but I'm here now!\")"
   ]
  },
  {
   "cell_type": "code",
   "execution_count": 6,
   "id": "ea4bb286",
   "metadata": {},
   "outputs": [
    {
     "name": "stdout",
     "output_type": "stream",
     "text": [
      "I'm so excited to learn Machine Learning!\n"
     ]
    }
   ],
   "source": [
    "print(\"I'm so excited to learn Machine Learning!\")"
   ]
  }
 ],
 "metadata": {
  "kernelspec": {
   "display_name": "Python 3",
   "language": "python",
   "name": "python3"
  },
  "language_info": {
   "codemirror_mode": {
    "name": "ipython",
    "version": 3
   },
   "file_extension": ".py",
   "mimetype": "text/x-python",
   "name": "python",
   "nbconvert_exporter": "python",
   "pygments_lexer": "ipython3",
   "version": "3.10.4"
  },
  "vscode": {
   "interpreter": {
    "hash": "f64816de5ea855171e188709cef1a6a82bf94e99a341cbfeadee781f27a5b60d"
   }
  }
 },
 "nbformat": 4,
 "nbformat_minor": 5
}
